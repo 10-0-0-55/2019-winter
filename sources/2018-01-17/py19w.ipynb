{
 "cells": [
  {
   "cell_type": "markdown",
   "metadata": {},
   "source": [
    "# python\n",
    "python是一门简洁的解释型语言。\n",
    "解释型意味着可以写一句运行一句，无需等到写完全部再编译运行。\n",
    "点击“运行”执行下面的代码："
   ]
  },
  {
   "cell_type": "code",
   "execution_count": 1,
   "metadata": {},
   "outputs": [
    {
     "name": "stdout",
     "output_type": "stream",
     "text": [
      "Hello world!\n"
     ]
    }
   ],
   "source": [
    "print(\"Hello world!\")"
   ]
  },
  {
   "cell_type": "markdown",
   "metadata": {},
   "source": [
    "python与c另一个极大的不同点是不用声明变量类型即可直接赋值："
   ]
  },
  {
   "cell_type": "code",
   "execution_count": 2,
   "metadata": {},
   "outputs": [
    {
     "name": "stdout",
     "output_type": "stream",
     "text": [
      "1\n"
     ]
    }
   ],
   "source": [
    "a = 1\n",
    "print(a)"
   ]
  },
  {
   "cell_type": "markdown",
   "metadata": {},
   "source": [
    "更愉悦的是同一个变量名可以指向不同类型的变量："
   ]
  },
  {
   "cell_type": "code",
   "execution_count": 5,
   "metadata": {},
   "outputs": [
    {
     "name": "stdout",
     "output_type": "stream",
     "text": [
      "字符串\n",
      "['列', '表']\n"
     ]
    }
   ],
   "source": [
    "a = \"字符串\"\n",
    "print(a)\n",
    "a = ['列', '表']\n",
    "print(a)"
   ]
  },
  {
   "cell_type": "markdown",
   "metadata": {},
   "source": [
    "同时，python相信解决问题的办法应该只有最好的一个并且注重可读性（import this）。\n",
    "所以像c语言中\n",
    "\n",
    "        if (1 == a) puts(\"a = 1!\") else puts(\"a != 1\")\n",
    "        \n",
    "        或\n",
    "        if (1 == a) {\n",
    "            puts(\"a = 1!\")\n",
    "        } else puts(\"a != 1\")\n",
    "        \n",
    "        以及\n",
    "        if (1 == a)\n",
    "            puts(\"a = 1!\")\n",
    "        else {\n",
    "            puts(\"a != 1\")\n",
    "        }\n",
    "        \n",
    "        等等写法，在python中只有一种：判断条件不用加括号，结尾加冒号，要执行的语句在下一行并缩进："
   ]
  },
  {
   "cell_type": "code",
   "execution_count": 6,
   "metadata": {},
   "outputs": [
    {
     "name": "stdout",
     "output_type": "stream",
     "text": [
      "a != 1\n"
     ]
    }
   ],
   "source": [
    "if 1 == a:\n",
    "    print(\"a = 1!\")\n",
    "else:\n",
    "    print(\"a != 1\")\n",
    "# 对于if-else if-else这样的判断结构，python使用if-elif-else"
   ]
  },
  {
   "cell_type": "markdown",
   "metadata": {},
   "source": [
    "python也有for循环，不过并不像c那样只是简单的遍历数字，而是一遍又一遍的取出指定迭代器的下一个值，可以使用或者不使用这个值："
   ]
  },
  {
   "cell_type": "code",
   "execution_count": 9,
   "metadata": {},
   "outputs": [
    {
     "name": "stdout",
     "output_type": "stream",
     "text": [
      "0 1 2 3 4 5 6 7 8 9 \n",
      "列\n",
      "表\n"
     ]
    }
   ],
   "source": [
    "for i in range(10): # 这里的range(10)就是可以从0迭代到9的迭代器\n",
    "    print(i ,end=' ')\n",
    "    \n",
    "print()\n",
    "\n",
    "for word in a: # 列表也可以当做迭代器，可以打印看看列表里都什么东西\n",
    "    print(word)"
   ]
  },
  {
   "cell_type": "markdown",
   "metadata": {},
   "source": [
    "这里的a就是python中的“列表”，列表相当于广义表，同一个列表可以存多种类型的数据："
   ]
  },
  {
   "cell_type": "code",
   "execution_count": 13,
   "metadata": {},
   "outputs": [
    {
     "name": "stdout",
     "output_type": "stream",
     "text": [
      "1\n",
      "oraoraora!\n",
      "['列', '表']\n"
     ]
    }
   ],
   "source": [
    "myList = [1, 'oraoraora!', a]\n",
    "\n",
    "for i in myList:\n",
    "    print(i)"
   ]
  },
  {
   "cell_type": "markdown",
   "metadata": {},
   "source": [
    "对列表的常见操作有：append、pop、remove、len等"
   ]
  },
  {
   "cell_type": "code",
   "execution_count": 14,
   "metadata": {},
   "outputs": [
    {
     "name": "stdout",
     "output_type": "stream",
     "text": [
      "[1, 'oraoraora!', ['列', '表'], '木大木大木大！']\n",
      "oraoraora! [1, ['列', '表'], '木大木大木大！']\n",
      "[1, '木大木大木大！']\n",
      "[1]\n",
      "len =  1\n",
      "[2, 6, 6, 8]\n",
      "[8, 6, 6, 2]\n"
     ]
    }
   ],
   "source": [
    "myList.append('木大木大木大！')\n",
    "print(myList)\n",
    "\n",
    "ora_string = myList.pop(1)\n",
    "# pop可以弹出任意位置的列表元素\n",
    "\n",
    "print(ora_string, myList)\n",
    "\n",
    "myList.remove(a) # remove删除指定值的数据\n",
    "print(myList)\n",
    "\n",
    "del myList[1] # del删除指定位置的数据，注意del是类似ifelse的语句，不是列表的方法\n",
    "print(myList)\n",
    "\n",
    "print(\"len =\", len(myList)) # 返回列表长度，len也不是列表的方法\n",
    "\n",
    "newList = [8, 2, 6, 6]\n",
    "\n",
    "newList.sort()\n",
    "print(newList)\n",
    "\n",
    "newList.sort(reverse=True)\n",
    "print(newList)"
   ]
  },
  {
   "cell_type": "markdown",
   "metadata": {},
   "source": [
    "另一个常用的列表操作是切片，在列表后接`[x:y:z]`表示取列表从x到y的部分，步长为z（通常:z省略）"
   ]
  },
  {
   "cell_type": "code",
   "execution_count": 17,
   "metadata": {},
   "outputs": [
    {
     "name": "stdout",
     "output_type": "stream",
     "text": [
      "[6]\n",
      "[8, 6]\n",
      "[8, 6]\n",
      "True\n",
      "[8, 6]\n",
      "[8, 6]\n",
      "[2, 6, 6, 8]\n"
     ]
    }
   ],
   "source": [
    "print(newList[1:2])\n",
    "\n",
    "print(newList[0:2])\n",
    "\n",
    "print(newList[:2])\n",
    "\n",
    "print(newList[0:2] == newList[:2])\n",
    "\n",
    "print(newList[:-2])\n",
    "\n",
    "print(newList[0:3:2])\n",
    "\n",
    "#倒序：\n",
    "print(newList[::-1])"
   ]
  },
  {
   "cell_type": "markdown",
   "metadata": {},
   "source": [
    "如果我们想指定一个名字对应一个数据呢？使用“字典”："
   ]
  },
  {
   "cell_type": "code",
   "execution_count": 18,
   "metadata": {},
   "outputs": [
    {
     "name": "stdout",
     "output_type": "stream",
     "text": [
      "one 1\n",
      "two 2\n",
      "three 3\n"
     ]
    },
    {
     "data": {
      "text/plain": [
       "[('three', 3), ('two', 2), ('one', 1)]"
      ]
     },
     "execution_count": 18,
     "metadata": {},
     "output_type": "execute_result"
    }
   ],
   "source": [
    "new_dict = {'one': 1, 'two': 2, 'three': 3}\n",
    "\n",
    "new_dict['two'] # 直接取'two'指向的值\n",
    "\n",
    "for key, value in new_dict.items(): \n",
    "    print(key, value) # 遍历字典的键值对\n",
    "\n",
    "sorted(new_dict.keys()) # 对键排序\n",
    "\n",
    "# 按值排序\n",
    "sorted(new_dict.items(), key=lambda x: x[1], reverse=True)\n",
    "#取出字典的键值对，key指定排序的元素items返回(key, value)的元组，lamda x: x[1]接收(k, v), 返回v\n",
    "#类似lambda的还有map和reduce"
   ]
  },
  {
   "cell_type": "markdown",
   "metadata": {},
   "source": [
    "变量不用指定类型，定义函数也不需要指定返回类型、参数类型"
   ]
  },
  {
   "cell_type": "code",
   "execution_count": 6,
   "metadata": {},
   "outputs": [
    {
     "name": "stdout",
     "output_type": "stream",
     "text": [
      "5\n",
      "6\n",
      "8\n"
     ]
    }
   ],
   "source": [
    "def inc(x, step=1):\n",
    "    return x+step\n",
    "\n",
    "# 这里的step在定义时指定了默认值，所以调用时可以只传一个参数，或者两个都传\n",
    "\n",
    "print(inc(4))\n",
    "print(inc(4,2))\n",
    "print(inc(4,step=4))\n",
    "# 还可以指定你这个参数的名字"
   ]
  },
  {
   "cell_type": "markdown",
   "metadata": {},
   "source": [
    "任意数目的参数可以用星号开头：\n",
    "\n",
    "(如果是要传任意数目的关键字参数使用[两个星号](https://python3-cookbook.readthedocs.io/zh_CN/latest/c07/p01_functions_that_accept_any_number_arguments.html))"
   ]
  },
  {
   "cell_type": "code",
   "execution_count": 7,
   "metadata": {},
   "outputs": [
    {
     "name": "stdout",
     "output_type": "stream",
     "text": [
      "1.0\n",
      "1.5\n",
      "2.0\n"
     ]
    }
   ],
   "source": [
    "def avg(first, *rest):\n",
    "    return (first + sum(rest)) / (1 + len(rest))\n",
    "\n",
    "print(avg(1))\n",
    "print(avg(1, 2))\n",
    "print(avg(1, 2, 3))"
   ]
  },
  {
   "cell_type": "markdown",
   "metadata": {},
   "source": [
    "学习资料：\n",
    "\n",
    "基本想让python做什么直接百度就行，想要系统的学习，或者一次学习一个章节的话，推荐下面几个网站：\n",
    "\n",
    "- [菜鸟教程](http://www.runoob.com/python3/python3-tutorial.html)\n",
    "- [廖雪峰](https://www.liaoxuefeng.com/wiki/0014316089557264a6b348958f449949df42a6d3a2e542c000)\n",
    "- [python cookbook](https://python3-cookbook.readthedocs.io/zh_CN/latest/index.html)"
   ]
  }
 ],
 "metadata": {
  "kernelspec": {
   "display_name": "Python 3",
   "language": "python",
   "name": "python3"
  },
  "language_info": {
   "codemirror_mode": {
    "name": "ipython",
    "version": 3
   },
   "file_extension": ".py",
   "mimetype": "text/x-python",
   "name": "python",
   "nbconvert_exporter": "python",
   "pygments_lexer": "ipython3",
   "version": "3.6.8"
  }
 },
 "nbformat": 4,
 "nbformat_minor": 2
}
